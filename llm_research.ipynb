{
 "cells": [
  {
   "cell_type": "code",
   "execution_count": 74,
   "id": "fd52f0fe",
   "metadata": {},
   "outputs": [],
   "source": [
    "import ollama\n",
    "from exa_py import Exa\n",
    "import json\n",
    "from tavily import TavilyClient\n",
    "import os \n",
    "from dotenv import load_dotenv\n",
    "from IPython.display import Markdown"
   ]
  },
  {
   "cell_type": "code",
   "execution_count": 75,
   "id": "9c3cbc57",
   "metadata": {},
   "outputs": [],
   "source": [
    "# Api Keys armazenadas como variáveis de ambiente\n",
    "tavily_api_key = os.getenv(\"TAVILY_API_KEY\")\n",
    "exa_api_key = os.getenv(\"EXA_API_KEY\")"
   ]
  },
  {
   "cell_type": "code",
   "execution_count": 81,
   "id": "a02d30d1",
   "metadata": {},
   "outputs": [],
   "source": [
    "def search_tavily(query):\n",
    "    \"\"\"Busca informações no Tavily e imprime a resposta bruta para depuração.\"\"\"\n",
    "    try:\n",
    "        tavily_client = TavilyClient(api_key=tavily_api_key)\n",
    "        response = tavily_client.search(query, num_results=3)\n",
    "        #print(\"Resposta bruta do Tavily:\", response)  # Adicionado para debug\n",
    "        snippets = [res.get(\"content\", \"\") for res in response.get(\"results\", [])]\n",
    "        return \"\\n\".join(snippets) if snippets else \"Nenhuma informação encontrada no Tavily.\"\n",
    "    except Exception as e:\n",
    "        return f\"Erro ao buscar no Tavily: {e}\"\n",
    "\n",
    "def search_exa(query):\n",
    "    \"\"\"Busca informações no Exa.ai.\"\"\"\n",
    "    try:\n",
    "        exa_client = Exa(api_key=exa_api_key)\n",
    "        response = exa_client.search_and_contents(query, text={\"max_characters\": 1000})\n",
    "        texts = [res.text for res in response.results]\n",
    "        return \"\\n\".join(texts) if texts else \"Nenhuma informação encontrada no Exa.\"\n",
    "    except Exception as e:\n",
    "        return f\"Erro ao buscar no Exa: {e}\"\n",
    "\n",
    "def summarize_with_llm(text):\n",
    "    \"\"\"Usa o modelo llama3.2:1b via Ollama para resumir as informações em dois parágrafos.\"\"\"\n",
    "    if not text.strip():\n",
    "        return \"Nenhuma informação relevante foi encontrada para resumir.\"\n",
    "    \n",
    "    prompt = f\"\"\"\n",
    "    Resuma as informações a seguir em apenas dois parágrafos, destacando os principais pontos:\n",
    "    \\n{text}\\n\n",
    "    Resumo:\n",
    "    \"\"\"\n",
    "    try:\n",
    "        response = ollama.chat(model=\"llama3.2:1b\", messages=[{\"role\": \"user\", \"content\": prompt}])\n",
    "        return response['message']['content']\n",
    "    except Exception as e:\n",
    "        return f\"Erro ao gerar resumo com llama3.2:1b: {e}\""
   ]
  },
  {
   "cell_type": "code",
   "execution_count": 84,
   "id": "c292fc51",
   "metadata": {},
   "outputs": [
    {
     "name": "stdout",
     "output_type": "stream",
     "text": [
      "Digite o tema da sua pergunta, exemplo \"Quem é Julien Sorel\": Quem é Anitta?\n",
      "Buscando informações...\n",
      "\n",
      "Resumo Final:\n"
     ]
    },
    {
     "data": {
      "text/markdown": [
       "Anitta é uma cantora e compositora brasileira nascida em 30 de março de 1993, na comunidade de Honório Gurgel, no Rio de Janeiro. Ela começou sua carreira musical aos 8 anos cantando em um coral da igreja de Santa Luzia.\n",
       "\n",
       "Anitta ganhou reconhecimento nacional após a lançamento dos singles \"Meiga e Abusada\" (2012) e \"Show das Poderosas\" (2013), o que lhe garantiu um contrato com a Warner Music Brasil. Ela se tornou uma das principais figuras da música brasileira no início dos anos 2010.\n",
       "\n",
       "Sua carreira foi marcada por vários sucessos, incluindo:\n",
       "\n",
       "* Lançamento do primeiro álbum de estreia \"Meiga e Abusada\" em 2012, que alcançou o top 10 na lista de álbuns brasileiros.\n",
       "* Lançamento do segundo álbum \"Ritmo Perfeito\" em 2014, que foi um sucesso comercial nos países lusófonos.\n",
       "* Vencedora da primeira edição do Grammy Latino de Melhor Álbum Tropical por \"Ritmo Perfeito\".\n",
       "* Indicação para o Grammy Latino de Melhor Artista Tropical e Melhor Álbum Tropical por \"Ritmo Perfeito\".\n",
       "\n",
       "Anitta também é conhecida por sua carreira empresarial, tendo lançado várias linhas de produtos, incluindo roupas, acessórios e alimentos.\n",
       "\n",
       "Além disso, Anitta é uma defensora das causas sociais e humanitárias, e tem participado em várias campanhas ao longo dos anos.\n",
       "\n",
       "Em resumo, Anitta é uma cantora e compositora brasileira que se tornou uma das principais figuras da música brasileira nos anos 2010. Sua carreira foi marcada por vários sucessos, incluindo a lançamento de álbuns de estreia e o prêmio Grammy Latino de Melhor Artista Tropical."
      ],
      "text/plain": [
       "<IPython.core.display.Markdown object>"
      ]
     },
     "metadata": {},
     "output_type": "display_data"
    }
   ],
   "source": [
    "#Tema a ser buscado\n",
    "pessoa = input(\"Digite o tema da sua pergunta, exemplo \\\"Quem é Julien Sorel\\\": \")\n",
    "\n",
    "# Busca as informações\n",
    "print(\"Buscando informações...\")\n",
    "tavily_results = search_tavily(pessoa)\n",
    "exa_results = search_exa(pessoa)\n",
    "\n",
    "# Resume utilizando o LLM\n",
    "conteudo_completo = tavily_results + \"\\n\" + exa_results\n",
    "resumo = summarize_with_llm(conteudo_completo)\n",
    "\n",
    "# Exibir o resumo\n",
    "print(\"\\nResumo Final:\")\n",
    "display(Markdown(resumo))\n"
   ]
  },
  {
   "cell_type": "code",
   "execution_count": null,
   "id": "9fecaca7",
   "metadata": {},
   "outputs": [],
   "source": []
  }
 ],
 "metadata": {
  "kernelspec": {
   "display_name": "Python 3 (ipykernel)",
   "language": "python",
   "name": "python3"
  },
  "language_info": {
   "codemirror_mode": {
    "name": "ipython",
    "version": 3
   },
   "file_extension": ".py",
   "mimetype": "text/x-python",
   "name": "python",
   "nbconvert_exporter": "python",
   "pygments_lexer": "ipython3",
   "version": "3.9.13"
  },
  "toc": {
   "base_numbering": 1,
   "nav_menu": {},
   "number_sections": true,
   "sideBar": true,
   "skip_h1_title": false,
   "title_cell": "Table of Contents",
   "title_sidebar": "Contents",
   "toc_cell": false,
   "toc_position": {},
   "toc_section_display": true,
   "toc_window_display": false
  }
 },
 "nbformat": 4,
 "nbformat_minor": 5
}
